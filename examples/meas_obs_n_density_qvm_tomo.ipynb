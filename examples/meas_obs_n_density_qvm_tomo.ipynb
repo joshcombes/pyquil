{
 "cells": [
  {
   "cell_type": "code",
   "execution_count": 1,
   "metadata": {},
   "outputs": [],
   "source": [
    "# make an abstract compiler\n",
    "from pyquil import Program\n",
    "from pyquil.api._qac import AbstractCompiler\n",
    "class DummyCompiler(AbstractCompiler):\n",
    "    def get_version_info(self):\n",
    "        return {}\n",
    "    def quil_to_native_quil(self, program: Program):\n",
    "        return program\n",
    "    def native_quil_to_executable(self, nq_program: Program):\n",
    "        return nq_program"
   ]
  },
  {
   "cell_type": "code",
   "execution_count": 2,
   "metadata": {},
   "outputs": [],
   "source": [
    "#make a quantum computer object\n",
    "import networkx as nx\n",
    "from pyquil.device import NxDevice\n",
    "from pyquil.api import QVM, QuantumComputer\n",
    "from pyquil.pyqvm import PyQVM\n",
    "from pyquil.reference_simulator import ReferenceDensitySimulator\n",
    "\n",
    "device = NxDevice(nx.complete_graph(1))\n",
    "qc = QuantumComputer(name='testy!',\n",
    "                     qam=PyQVM(n_qubits=1,quantum_simulator_type=ReferenceDensitySimulator),\n",
    "                     device=device,\n",
    "                     compiler=DummyCompiler())"
   ]
  },
  {
   "cell_type": "markdown",
   "metadata": {},
   "source": [
    "**make some programs**"
   ]
  },
  {
   "cell_type": "code",
   "execution_count": 3,
   "metadata": {},
   "outputs": [
    {
     "name": "stdout",
     "output_type": "stream",
     "text": [
      "I 0\n",
      "DECLARE ro BIT[1]\n",
      "MEASURE 0 ro[0]\n",
      "\n",
      "I 0\n",
      "\n"
     ]
    }
   ],
   "source": [
    "from pyquil.gates import I, MEASURE\n",
    "\n",
    "# run prog\n",
    "prog = Program(I(0))\n",
    "ro = prog.declare('ro', 'BIT', 1)\n",
    "prog += MEASURE(0, ro[0])\n",
    "\n",
    "# wrap in numshots prog\n",
    "progwrap = prog.copy()\n",
    "progwrap.wrap_in_numshots_loop(10)\n",
    "print(prog)\n",
    "\n",
    "# Run and measure style\n",
    "progRAM = Program(I(0))\n",
    "print(progRAM)"
   ]
  },
  {
   "cell_type": "markdown",
   "metadata": {},
   "source": [
    "# Does not work if you just set density"
   ]
  },
  {
   "cell_type": "code",
   "execution_count": 4,
   "metadata": {},
   "outputs": [
    {
     "name": "stdout",
     "output_type": "stream",
     "text": [
      "the old state\n",
      " [[1.+0.j 0.+0.j]\n",
      " [0.+0.j 0.+0.j]]\n",
      "the new state\n",
      " [[0. 0.]\n",
      " [0. 1.]]\n"
     ]
    }
   ],
   "source": [
    "# inspect the state of the QVM\n",
    "print('the old state\\n', qc.qam.wf_simulator.density)\n",
    "\n",
    "# density matrix \n",
    "import numpy as np\n",
    "rho1 = np.array([[ 0.0, 0.0], [0.0,  1.0]])\n",
    "print('the new state\\n',rho1)"
   ]
  },
  {
   "cell_type": "code",
   "execution_count": 5,
   "metadata": {},
   "outputs": [
    {
     "name": "stdout",
     "output_type": "stream",
     "text": [
      "[[0. 0.]\n",
      " [0. 1.]]\n"
     ]
    }
   ],
   "source": [
    "# load mixed state into QVM\n",
    "qc.qam.wf_simulator.density = rho1\n",
    "# display QVM state\n",
    "print(qc.qam.wf_simulator.density)"
   ]
  },
  {
   "cell_type": "code",
   "execution_count": 6,
   "metadata": {},
   "outputs": [
    {
     "name": "stdout",
     "output_type": "stream",
     "text": [
      "[[1]]\n",
      "[[0]]\n",
      "[[0]]\n",
      "[[0]]\n",
      "[[0]]\n"
     ]
    }
   ],
   "source": [
    "# run\n",
    "qc.qam.wf_simulator.density = rho1\n",
    "print(qc.run(prog))\n",
    "#  \n",
    "for _ in range(0,4):\n",
    "    print(qc.run(prog))"
   ]
  },
  {
   "cell_type": "code",
   "execution_count": 7,
   "metadata": {},
   "outputs": [
    {
     "name": "stdout",
     "output_type": "stream",
     "text": [
      "[[0. 0.]\n",
      " [0. 1.]]\n",
      "{0: array([1, 1, 1, 1, 1, 1, 1, 1, 1, 1, 1, 1, 1, 1, 1, 1, 1, 1, 1, 1, 1, 1,\n",
      "       1, 1, 1, 1, 1, 1, 1, 1, 1, 1, 1, 1, 1, 1, 1, 1, 1, 1])}\n",
      "[[1.+0.j 0.+0.j]\n",
      " [0.+0.j 0.+0.j]]\n",
      "{0: array([0, 0, 0, 0, 0, 0, 0, 0, 0, 0, 0, 0, 0, 0, 0, 0, 0, 0, 0, 0, 0, 0,\n",
      "       0, 0, 0, 0, 0, 0, 0, 0, 0, 0, 0, 0, 0, 0, 0, 0, 0, 0])}\n"
     ]
    }
   ],
   "source": [
    "# Run and measure\n",
    "qc.qam.wf_simulator.density = rho1\n",
    "\n",
    "print(qc.qam.wf_simulator.density)\n",
    "print(qc.run_and_measure(progRAM,trials=40))\n",
    "print(qc.qam.wf_simulator.density)\n",
    "print(qc.run_and_measure(progRAM,trials=40))"
   ]
  },
  {
   "cell_type": "markdown",
   "metadata": {},
   "source": [
    "# Works if you `qc.qam.wf_simulator.set_density`"
   ]
  },
  {
   "cell_type": "code",
   "execution_count": 8,
   "metadata": {},
   "outputs": [],
   "source": [
    "qc.qam.wf_simulator.set_density(rho1)"
   ]
  },
  {
   "cell_type": "code",
   "execution_count": 9,
   "metadata": {},
   "outputs": [
    {
     "name": "stdout",
     "output_type": "stream",
     "text": [
      "[[1]]\n",
      "[[1]]\n",
      "[[1]]\n",
      "[[1]]\n",
      "[[1]]\n"
     ]
    }
   ],
   "source": [
    "# run\n",
    "print(qc.run(prog))\n",
    "#  \n",
    "for _ in range(0,4):\n",
    "    print(qc.run(prog))\n"
   ]
  },
  {
   "cell_type": "code",
   "execution_count": 10,
   "metadata": {},
   "outputs": [
    {
     "name": "stdout",
     "output_type": "stream",
     "text": [
      "[[0. 0.]\n",
      " [0. 1.]]\n",
      "{0: array([1, 1, 1, 1, 1, 1, 1, 1, 1, 1])}\n",
      "[[0. 0.]\n",
      " [0. 1.]]\n",
      "{0: array([1, 1, 1, 1, 1, 1, 1, 1, 1, 1, 1, 1, 1, 1, 1, 1, 1, 1, 1, 1, 1, 1,\n",
      "       1, 1, 1, 1, 1, 1, 1, 1, 1, 1, 1, 1, 1, 1, 1, 1, 1, 1])}\n"
     ]
    }
   ],
   "source": [
    "# run and measure\n",
    "\n",
    "print(qc.qam.wf_simulator.density)\n",
    "print(qc.run_and_measure(progRAM,trials=10))\n",
    "print(qc.qam.wf_simulator.density)\n",
    "print(qc.run_and_measure(progRAM,trials=40))"
   ]
  },
  {
   "cell_type": "markdown",
   "metadata": {},
   "source": [
    "# density works with `measure_observables` if `calibrate_readout=None`"
   ]
  },
  {
   "cell_type": "code",
   "execution_count": 11,
   "metadata": {},
   "outputs": [],
   "source": [
    "from forest.benchmarking.tomography import generate_state_tomography_experiment\n",
    "from forest.benchmarking.tomography import iterative_mle_state_estimate, linear_inv_state_estimate"
   ]
  },
  {
   "cell_type": "code",
   "execution_count": 12,
   "metadata": {},
   "outputs": [
    {
     "name": "stdout",
     "output_type": "stream",
     "text": [
      "[[0. 0.]\n",
      " [0. 1.]]\n"
     ]
    }
   ],
   "source": [
    "# check if the density is correct\n",
    "print(qc.qam.wf_simulator.density)"
   ]
  },
  {
   "cell_type": "code",
   "execution_count": 13,
   "metadata": {},
   "outputs": [
    {
     "name": "stdout",
     "output_type": "stream",
     "text": [
      "I 0\n",
      "0: Z0_0→(1+0j)*I\n",
      "1: Z0_0→(1+0j)*X0\n",
      "2: Z0_0→(1+0j)*Y0\n",
      "3: Z0_0→(1+0j)*Z0\n"
     ]
    }
   ],
   "source": [
    "experiment_1q = generate_state_tomography_experiment(program=progRAM, qubits=[0])\n",
    "\n",
    "from pyquil.operator_estimation import ExperimentSetting, TensorProductState, TomographyExperiment\n",
    "from pyquil.paulis import sZ\n",
    "\n",
    "print(experiment_1q)"
   ]
  },
  {
   "cell_type": "code",
   "execution_count": 14,
   "metadata": {},
   "outputs": [
    {
     "data": {
      "text/plain": [
       "[ExperimentResult[Z0_0→(1+0j)*I: 1.0 +- 0.0],\n",
       " ExperimentResult[Z0_0→(1+0j)*X0: 0.0025 +- 0.011180304948882207],\n",
       " ExperimentResult[Z0_0→(1+0j)*Y0: -0.01325 +- 0.011179358420209095],\n",
       " ExperimentResult[Z0_0→(1+0j)*Z0: -1.0 +- 0.0]]"
      ]
     },
     "execution_count": 14,
     "metadata": {},
     "output_type": "execute_result"
    }
   ],
   "source": [
    "from pyquil.operator_estimation import measure_observables\n",
    "\n",
    "\n",
    "resultsy = list(measure_observables(qc=qc, tomo_experiment=experiment_1q, n_shots=8000, calibrate_readout=None))\n",
    "resultsy"
   ]
  },
  {
   "cell_type": "markdown",
   "metadata": {},
   "source": [
    "**estimate the state**"
   ]
  },
  {
   "cell_type": "code",
   "execution_count": 15,
   "metadata": {},
   "outputs": [
    {
     "name": "stdout",
     "output_type": "stream",
     "text": [
      "rho est [[0.+0.j 0.+0.j]\n",
      " [0.-0.j 1.-0.j]]\n",
      "===\n",
      "rho true [[0. 0.]\n",
      " [0. 1.]]\n"
     ]
    }
   ],
   "source": [
    "\n",
    "rho = iterative_mle_state_estimate(results=resultsy, qubits=[0])\n",
    "print('rho est', np.around(rho, decimals=2))\n",
    "print('===')\n",
    "print('rho true', np.around(rho1, decimals=2))\n"
   ]
  },
  {
   "cell_type": "code",
   "execution_count": 16,
   "metadata": {},
   "outputs": [
    {
     "data": {
      "text/plain": [
       "array([[-1.11022302e-16+0.j      ,  1.25000000e-03+0.006625j],\n",
       "       [ 1.25000000e-03-0.006625j,  1.00000000e+00+0.j      ]])"
      ]
     },
     "execution_count": 16,
     "metadata": {},
     "output_type": "execute_result"
    }
   ],
   "source": [
    "linear_inv_state_estimate(results=resultsy, qubits=[0])"
   ]
  },
  {
   "cell_type": "code",
   "execution_count": null,
   "metadata": {},
   "outputs": [],
   "source": []
  }
 ],
 "metadata": {
  "kernelspec": {
   "display_name": "Python 3",
   "language": "python",
   "name": "python3"
  },
  "language_info": {
   "codemirror_mode": {
    "name": "ipython",
    "version": 3
   },
   "file_extension": ".py",
   "mimetype": "text/x-python",
   "name": "python",
   "nbconvert_exporter": "python",
   "pygments_lexer": "ipython3",
   "version": "3.7.3"
  }
 },
 "nbformat": 4,
 "nbformat_minor": 2
}
