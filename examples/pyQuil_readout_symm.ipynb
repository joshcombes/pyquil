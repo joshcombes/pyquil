{
 "cells": [
  {
   "cell_type": "markdown",
   "metadata": {},
   "source": [
    "# Testing `run_symmetrized_readout`\n",
    "\n",
    "The purpose of this notebook is to help in the code review of `run_symmetrized_readout`. \n",
    "\n",
    "The noise needed to demonstrate the functionarlity is hardcoded into the `api._quantum_computer`. We will need to remove it before merging this branch."
   ]
  },
  {
   "cell_type": "code",
   "execution_count": 1,
   "metadata": {},
   "outputs": [],
   "source": [
    "from math import pi\n",
    "from typing import List\n",
    "import itertools\n",
    "import numpy as np\n",
    "\n",
    "from pyquil import Program, get_qc\n",
    "from pyquil.api import QuantumComputer\n",
    "from pyquil.gates import *\n",
    "from forest.benchmarking.utils import bitstring_prep"
   ]
  },
  {
   "cell_type": "markdown",
   "metadata": {},
   "source": [
    "**get a quantum computers, because we need one**"
   ]
  },
  {
   "cell_type": "code",
   "execution_count": 2,
   "metadata": {},
   "outputs": [],
   "source": [
    "from forest.benchmarking.compilation import basic_compile\n",
    "from pyquil.api._qac import AbstractCompiler\n",
    "\n",
    "# we need to do this otherwise everything gets complied away\n",
    "class DummyCompiler(AbstractCompiler):\n",
    "    def get_version_info(self):\n",
    "        return {}\n",
    "\n",
    "    def quil_to_native_quil(self, program: Program):\n",
    "        return basic_compile(program)\n",
    "\n",
    "    def native_quil_to_executable(self, nq_program: Program):\n",
    "        return nq_program\n",
    "\n",
    "qc = get_qc(\"8q-qvm\")\n",
    "qc.compiler = DummyCompiler()"
   ]
  },
  {
   "cell_type": "markdown",
   "metadata": {},
   "source": [
    "**define some two qubit asymmetric noise operators**\n",
    "\n",
    "Note these operators are not used below. Again they are hardcoded into `api._quantum_computer`. I put them here so you can see the kind of noise that the new methods symmetrize."
   ]
  },
  {
   "cell_type": "code",
   "execution_count": 3,
   "metadata": {},
   "outputs": [],
   "source": [
    "def two_qubit_bit_flip_operators(p00,p01,p10,p11):\n",
    "    \"\"\"\n",
    "    Return a special case of a two qubit asymmetric bit flip kraus operators.\n",
    "    \n",
    "    Suppose we prepare a two qubit state |i,j> = |i>\\otimes|j> for i,j \\in {0,1}.\n",
    "    \n",
    "    Then pij := Pr(measured=ij|prepared=ij). So if pij = 1 no flip happens.\n",
    "    \n",
    "    For example consider p00 = 1-epsilon then a flip happens with probablity epsilon.\n",
    "    The flip is symmetrically superposed over flipping to the states |0,1>, |1,0>, and |1,1>.\n",
    "    The asymmetry comes from the fact that p00 does not have to be equal to p10 etc.\n",
    "    \n",
    "    :param p00: the probablity of |0,0> to remain in |0,0>\n",
    "    :param p01: the probablity of |0,1> to remain in |0,1>\n",
    "    :param p10: the probablity of |1,0> to remain in |1,0>\n",
    "    :param p11: the probablity of |1,1> to remain in |1,1>\n",
    "    :returns: a list of four Kraus operators.\n",
    "    \"\"\"\n",
    "    p00e = 1.0 - p00\n",
    "    p01e = 1.0 - p01\n",
    "    p10e = 1.0 - p10\n",
    "    p11e = 1.0 - p11\n",
    "    kI = np.array([[np.sqrt(1-p00e), 0.0, 0.0, 0.0], [0.0, np.sqrt(1-p01e), 0.0, 0.0], [0.0, 0.0, np.sqrt(1-p10e), 0.0], [0.0, 0.0, 0.0, np.sqrt(1-p11e)]])\n",
    "    k00 = np.sqrt(p00e/3) * ( _flip_matrix(0,1) + _flip_matrix(0,2) + _flip_matrix(0,3) )\n",
    "    k01 = np.sqrt(p01e/3) * ( _flip_matrix(1,0) + _flip_matrix(1,2) + _flip_matrix(1,3) )\n",
    "    k10 = np.sqrt(p10e/3) * ( _flip_matrix(2,0) + _flip_matrix(2,1) + _flip_matrix(2,3) )\n",
    "    k11 = np.sqrt(p11e/3) * ( _flip_matrix(3,0) + _flip_matrix(3,1) + _flip_matrix(3,2) )\n",
    "    return kI, k00, k01, k10, k11\n",
    "\n",
    "def _flip_matrix(i,j,dim=4):\n",
    "    mat = np.zeros((dim,dim))\n",
    "    #mat.itemset((i,j),1)\n",
    "    mat.itemset((j,i),1)\n",
    "    return mat\n",
    "\n",
    "def append_kraus_to_gate(kraus_ops, g):\n",
    "    \"\"\"\n",
    "    Follow a gate `g` by a Kraus map described by `kraus_ops`.\n",
    "\n",
    "    :param list kraus_ops: The Kraus operators.\n",
    "    :param numpy.ndarray g: The unitary gate.\n",
    "    :return: A list of transformed Kraus operators.\n",
    "    \"\"\"\n",
    "    return [kj.dot(g) for kj in kraus_ops]"
   ]
  },
  {
   "cell_type": "markdown",
   "metadata": {},
   "source": [
    "**If the noise model above** was compatible with the run methods then the "
   ]
  },
  {
   "cell_type": "code",
   "execution_count": 4,
   "metadata": {},
   "outputs": [],
   "source": [
    "nbits = 2\n",
    "prepnames = []\n",
    "prepprogs = []\n",
    "binarray = []\n",
    "for flip_array in itertools.product([0, 1], repeat=nbits):\n",
    "    prepprogs.append(bitstring_prep(list(range(0,nbits)),flip_array))\n",
    "    prepnames.append(''.join(str(x) for x in flip_array))\n",
    "    binarray.append(list(flip_array))"
   ]
  },
  {
   "cell_type": "code",
   "execution_count": 5,
   "metadata": {},
   "outputs": [],
   "source": [
    "from pyquil.quil import DefGate\n",
    "\n",
    "II_mat = np.eye(4)\n",
    "II_definition = DefGate(\"II\", II_mat)\n",
    "II = II_definition.get_constructor()\n",
    "kraus_ops = two_qubit_bit_flip_operators(0.1,1,1,1)\n",
    "\n",
    "p = Program(II_definition)\n",
    "\n",
    "p.define_noisy_gate(\"II\", [0, 1],  append_kraus_to_gate(kraus_ops, II_mat))\n",
    "p += Program(II(0,1))"
   ]
  },
  {
   "cell_type": "code",
   "execution_count": 6,
   "metadata": {},
   "outputs": [
    {
     "data": {
      "text/plain": [
       "<pyquil.quil.Program at 0xa26d64358>"
      ]
     },
     "execution_count": 6,
     "metadata": {},
     "output_type": "execute_result"
    }
   ],
   "source": [
    "progRAM = p.copy()\n",
    "\n",
    "prog = p.copy()\n",
    "ro = prog.declare('ro', 'BIT', 2)\n",
    "prog += MEASURE(0, ro[0])\n",
    "prog += MEASURE(1, ro[1])\n",
    "prog.wrap_in_numshots_loop(10)"
   ]
  },
  {
   "cell_type": "markdown",
   "metadata": {},
   "source": [
    "# `run_and_measure`\n",
    "\n",
    "the noise is only on qubits 0 and 1\n"
   ]
  },
  {
   "cell_type": "code",
   "execution_count": 7,
   "metadata": {},
   "outputs": [
    {
     "data": {
      "text/plain": [
       "{0: array([1, 0, 0, 0, 1, 0, 1, 1, 0, 0]),\n",
       " 1: array([0, 1, 1, 1, 1, 0, 0, 1, 1, 1]),\n",
       " 2: array([0, 0, 0, 0, 0, 0, 0, 0, 0, 0]),\n",
       " 3: array([0, 0, 0, 0, 0, 0, 0, 0, 0, 0]),\n",
       " 4: array([0, 0, 0, 0, 0, 0, 0, 0, 0, 0]),\n",
       " 5: array([0, 0, 0, 0, 0, 0, 0, 0, 0, 0]),\n",
       " 6: array([0, 0, 0, 0, 0, 0, 0, 0, 0, 0]),\n",
       " 7: array([0, 0, 0, 0, 0, 0, 0, 0, 0, 0])}"
      ]
     },
     "execution_count": 7,
     "metadata": {},
     "output_type": "execute_result"
    }
   ],
   "source": [
    "qc.run_and_measure(progRAM,trials=10)"
   ]
  },
  {
   "cell_type": "markdown",
   "metadata": {},
   "source": [
    "# `run` the noise models works :)"
   ]
  },
  {
   "cell_type": "code",
   "execution_count": 8,
   "metadata": {},
   "outputs": [
    {
     "data": {
      "text/plain": [
       "array([[1, 0],\n",
       "       [1, 1],\n",
       "       [0, 1],\n",
       "       [1, 1],\n",
       "       [1, 1],\n",
       "       [0, 1],\n",
       "       [1, 1],\n",
       "       [1, 1],\n",
       "       [0, 1],\n",
       "       [0, 1]])"
      ]
     },
     "execution_count": 8,
     "metadata": {},
     "output_type": "execute_result"
    }
   ],
   "source": [
    "qc.run(prog)"
   ]
  },
  {
   "cell_type": "markdown",
   "metadata": {},
   "source": [
    "# `run_symmetrized_readout_new` also works \n",
    "\n",
    "if you turn the compiler off"
   ]
  },
  {
   "cell_type": "code",
   "execution_count": 9,
   "metadata": {},
   "outputs": [
    {
     "name": "stdout",
     "output_type": "stream",
     "text": [
      "The number of trials was modified from 9 to 8. To be consistent with the number of trials required by the type of readout symmetrization chosen.\n"
     ]
    },
    {
     "name": "stderr",
     "output_type": "stream",
     "text": [
      "/Users/joshua/pyquil/pyquil/quil.py:183: UserWarning: Gate II has already been defined in this program\n",
      "  .format(instruction.name))\n"
     ]
    },
    {
     "data": {
      "text/plain": [
       "array([[1, 0],\n",
       "       [1, 1],\n",
       "       [1, 1],\n",
       "       [1, 1],\n",
       "       [1, 1],\n",
       "       [1, 0],\n",
       "       [1, 0],\n",
       "       [1, 0]])"
      ]
     },
     "execution_count": 9,
     "metadata": {},
     "output_type": "execute_result"
    }
   ],
   "source": [
    "qc.run_symmetrized_readout(progRAM, trials=9, symm_type=2)"
   ]
  },
  {
   "cell_type": "markdown",
   "metadata": {},
   "source": [
    "# check the confusion matrix\n",
    "\n",
    "Everything above here works. But for the code below you need to hack the noise models."
   ]
  },
  {
   "cell_type": "code",
   "execution_count": 10,
   "metadata": {},
   "outputs": [],
   "source": [
    "import pandas as pd"
   ]
  },
  {
   "cell_type": "code",
   "execution_count": 11,
   "metadata": {},
   "outputs": [],
   "source": [
    "nbits = 2\n",
    "prepnames = []\n",
    "prepprogs = []\n",
    "binarray = []\n",
    "for flip_array in itertools.product([0, 1], repeat=nbits):\n",
    "    prepprogs.append(bitstring_prep(list(range(0,nbits)),flip_array))\n",
    "    prepnames.append(''.join(str(x) for x in flip_array))\n",
    "    binarray.append(list(flip_array))"
   ]
  },
  {
   "cell_type": "code",
   "execution_count": 12,
   "metadata": {},
   "outputs": [],
   "source": [
    "# kraus_ops = two_qubit_bit_flip_operators(1,0.7,1,1)\n",
    "\n",
    "# # add noise\n",
    "# for prog in prepprogs:\n",
    "#     prog.inst(II_definition)\n",
    "#     prog.define_noisy_gate(\"II\", [0, 1],  append_kraus_to_gate(kraus_ops, II_mat))\n",
    "#     prog.inst(II(0,1))"
   ]
  },
  {
   "cell_type": "markdown",
   "metadata": {},
   "source": [
    "Note there is a really big hack here... I had to hard code the noise in. The above does note work.\n",
    "\n",
    "The problem is that if you add the symmetrization using this method it happens after the noise which wont do anything"
   ]
  },
  {
   "cell_type": "markdown",
   "metadata": {},
   "source": [
    "**trival / no symm**"
   ]
  },
  {
   "cell_type": "code",
   "execution_count": 13,
   "metadata": {},
   "outputs": [
    {
     "data": {
      "text/html": [
       "<div>\n",
       "<style scoped>\n",
       "    .dataframe tbody tr th:only-of-type {\n",
       "        vertical-align: middle;\n",
       "    }\n",
       "\n",
       "    .dataframe tbody tr th {\n",
       "        vertical-align: top;\n",
       "    }\n",
       "\n",
       "    .dataframe thead th {\n",
       "        text-align: right;\n",
       "    }\n",
       "</style>\n",
       "<table border=\"1\" class=\"dataframe\">\n",
       "  <thead>\n",
       "    <tr style=\"text-align: right;\">\n",
       "      <th></th>\n",
       "      <th>Meas 00</th>\n",
       "      <th>Meas 01</th>\n",
       "      <th>Meas 10</th>\n",
       "      <th>Meas 11</th>\n",
       "    </tr>\n",
       "    <tr>\n",
       "      <th>Prep</th>\n",
       "      <th></th>\n",
       "      <th></th>\n",
       "      <th></th>\n",
       "      <th></th>\n",
       "    </tr>\n",
       "  </thead>\n",
       "  <tbody>\n",
       "    <tr>\n",
       "      <th>00</th>\n",
       "      <td>0.693</td>\n",
       "      <td>0.102333</td>\n",
       "      <td>0.098333</td>\n",
       "      <td>0.106333</td>\n",
       "    </tr>\n",
       "    <tr>\n",
       "      <th>01</th>\n",
       "      <td>0.000</td>\n",
       "      <td>1.000000</td>\n",
       "      <td>0.000000</td>\n",
       "      <td>0.000000</td>\n",
       "    </tr>\n",
       "    <tr>\n",
       "      <th>10</th>\n",
       "      <td>0.000</td>\n",
       "      <td>0.000000</td>\n",
       "      <td>1.000000</td>\n",
       "      <td>0.000000</td>\n",
       "    </tr>\n",
       "    <tr>\n",
       "      <th>11</th>\n",
       "      <td>0.000</td>\n",
       "      <td>0.000000</td>\n",
       "      <td>0.000000</td>\n",
       "      <td>1.000000</td>\n",
       "    </tr>\n",
       "  </tbody>\n",
       "</table>\n",
       "</div>"
      ],
      "text/plain": [
       "      Meas 00   Meas 01   Meas 10   Meas 11\n",
       "Prep                                       \n",
       "00      0.693  0.102333  0.098333  0.106333\n",
       "01      0.000  1.000000  0.000000  0.000000\n",
       "10      0.000  0.000000  1.000000  0.000000\n",
       "11      0.000  0.000000  0.000000  1.000000"
      ]
     },
     "execution_count": 13,
     "metadata": {},
     "output_type": "execute_result"
    }
   ],
   "source": [
    "data = []\n",
    "num_shots = 6000\n",
    "\n",
    "for prepname,program in zip(prepnames, prepprogs):\n",
    "    answer = qc.run_symmetrized_readout(program, trials=num_shots, symm_type=0)\n",
    "    counts=[]\n",
    "    for cdx in binarray:\n",
    "        counts.append(answer.tolist().count(cdx) / num_shots)\n",
    "\n",
    "    dicty = dict(zip(['Prep']+[ 'Meas '+ name for name in prepnames], [prepname] + counts)) \n",
    "    data.append(dicty)\n",
    "\n",
    "df = pd.DataFrame(data)\n",
    "ndf = df.set_index('Prep',drop=True)\n",
    "ndf"
   ]
  },
  {
   "cell_type": "markdown",
   "metadata": {},
   "source": [
    "**One design**\n",
    "\n",
    "In this case does not help much"
   ]
  },
  {
   "cell_type": "code",
   "execution_count": 14,
   "metadata": {},
   "outputs": [
    {
     "data": {
      "text/html": [
       "<div>\n",
       "<style scoped>\n",
       "    .dataframe tbody tr th:only-of-type {\n",
       "        vertical-align: middle;\n",
       "    }\n",
       "\n",
       "    .dataframe tbody tr th {\n",
       "        vertical-align: top;\n",
       "    }\n",
       "\n",
       "    .dataframe thead th {\n",
       "        text-align: right;\n",
       "    }\n",
       "</style>\n",
       "<table border=\"1\" class=\"dataframe\">\n",
       "  <thead>\n",
       "    <tr style=\"text-align: right;\">\n",
       "      <th></th>\n",
       "      <th>Meas 00</th>\n",
       "      <th>Meas 01</th>\n",
       "      <th>Meas 10</th>\n",
       "      <th>Meas 11</th>\n",
       "    </tr>\n",
       "    <tr>\n",
       "      <th>Prep</th>\n",
       "      <th></th>\n",
       "      <th></th>\n",
       "      <th></th>\n",
       "      <th></th>\n",
       "    </tr>\n",
       "  </thead>\n",
       "  <tbody>\n",
       "    <tr>\n",
       "      <th>00</th>\n",
       "      <td>0.845333</td>\n",
       "      <td>0.055500</td>\n",
       "      <td>0.052167</td>\n",
       "      <td>0.047000</td>\n",
       "    </tr>\n",
       "    <tr>\n",
       "      <th>01</th>\n",
       "      <td>0.000000</td>\n",
       "      <td>1.000000</td>\n",
       "      <td>0.000000</td>\n",
       "      <td>0.000000</td>\n",
       "    </tr>\n",
       "    <tr>\n",
       "      <th>10</th>\n",
       "      <td>0.000000</td>\n",
       "      <td>0.000000</td>\n",
       "      <td>1.000000</td>\n",
       "      <td>0.000000</td>\n",
       "    </tr>\n",
       "    <tr>\n",
       "      <th>11</th>\n",
       "      <td>0.049333</td>\n",
       "      <td>0.054833</td>\n",
       "      <td>0.045000</td>\n",
       "      <td>0.850833</td>\n",
       "    </tr>\n",
       "  </tbody>\n",
       "</table>\n",
       "</div>"
      ],
      "text/plain": [
       "       Meas 00   Meas 01   Meas 10   Meas 11\n",
       "Prep                                        \n",
       "00    0.845333  0.055500  0.052167  0.047000\n",
       "01    0.000000  1.000000  0.000000  0.000000\n",
       "10    0.000000  0.000000  1.000000  0.000000\n",
       "11    0.049333  0.054833  0.045000  0.850833"
      ]
     },
     "execution_count": 14,
     "metadata": {},
     "output_type": "execute_result"
    }
   ],
   "source": [
    "data = []\n",
    "num_shots = 6000\n",
    "\n",
    "for prepname,program in zip(prepnames, prepprogs):\n",
    "    answer = qc.run_symmetrized_readout(program, trials=num_shots, symm_type=1)\n",
    "    counts=[]\n",
    "    for cdx in binarray:\n",
    "        counts.append(answer.tolist().count(cdx) / num_shots)\n",
    "\n",
    "    dicty = dict(zip(['Prep']+[ 'Meas ' + name for name in prepnames], [prepname] + counts)) \n",
    "    data.append(dicty)\n",
    "\n",
    "df = pd.DataFrame(data)\n",
    "ndf = df.set_index('Prep',drop=True)\n",
    "ndf"
   ]
  },
  {
   "cell_type": "markdown",
   "metadata": {},
   "source": [
    "**two design**\n",
    "\n",
    ":) it is working!!"
   ]
  },
  {
   "cell_type": "code",
   "execution_count": 15,
   "metadata": {},
   "outputs": [
    {
     "data": {
      "text/html": [
       "<div>\n",
       "<style scoped>\n",
       "    .dataframe tbody tr th:only-of-type {\n",
       "        vertical-align: middle;\n",
       "    }\n",
       "\n",
       "    .dataframe tbody tr th {\n",
       "        vertical-align: top;\n",
       "    }\n",
       "\n",
       "    .dataframe thead th {\n",
       "        text-align: right;\n",
       "    }\n",
       "</style>\n",
       "<table border=\"1\" class=\"dataframe\">\n",
       "  <thead>\n",
       "    <tr style=\"text-align: right;\">\n",
       "      <th></th>\n",
       "      <th>Meas 00</th>\n",
       "      <th>Meas 01</th>\n",
       "      <th>Meas 10</th>\n",
       "      <th>Meas 11</th>\n",
       "    </tr>\n",
       "    <tr>\n",
       "      <th>Prep</th>\n",
       "      <th></th>\n",
       "      <th></th>\n",
       "      <th></th>\n",
       "      <th></th>\n",
       "    </tr>\n",
       "  </thead>\n",
       "  <tbody>\n",
       "    <tr>\n",
       "      <th>00</th>\n",
       "      <td>0.927333</td>\n",
       "      <td>0.023833</td>\n",
       "      <td>0.022833</td>\n",
       "      <td>0.026000</td>\n",
       "    </tr>\n",
       "    <tr>\n",
       "      <th>01</th>\n",
       "      <td>0.024167</td>\n",
       "      <td>0.922667</td>\n",
       "      <td>0.025500</td>\n",
       "      <td>0.027667</td>\n",
       "    </tr>\n",
       "    <tr>\n",
       "      <th>10</th>\n",
       "      <td>0.028167</td>\n",
       "      <td>0.021500</td>\n",
       "      <td>0.926667</td>\n",
       "      <td>0.023667</td>\n",
       "    </tr>\n",
       "    <tr>\n",
       "      <th>11</th>\n",
       "      <td>0.024000</td>\n",
       "      <td>0.024667</td>\n",
       "      <td>0.022667</td>\n",
       "      <td>0.928667</td>\n",
       "    </tr>\n",
       "  </tbody>\n",
       "</table>\n",
       "</div>"
      ],
      "text/plain": [
       "       Meas 00   Meas 01   Meas 10   Meas 11\n",
       "Prep                                        \n",
       "00    0.927333  0.023833  0.022833  0.026000\n",
       "01    0.024167  0.922667  0.025500  0.027667\n",
       "10    0.028167  0.021500  0.926667  0.023667\n",
       "11    0.024000  0.024667  0.022667  0.928667"
      ]
     },
     "execution_count": 15,
     "metadata": {},
     "output_type": "execute_result"
    }
   ],
   "source": [
    "data = []\n",
    "num_shots = 6000\n",
    "\n",
    "for prepname,program in zip(prepnames, prepprogs):\n",
    "    answer = qc.run_symmetrized_readout(program, trials=num_shots, symm_type=2)\n",
    "    counts=[]\n",
    "    for cdx in binarray:\n",
    "        counts.append(answer.tolist().count(cdx) / num_shots)\n",
    "\n",
    "    dicty = dict(zip(['Prep']+[ 'Meas ' + name for name in prepnames], [prepname] + counts)) \n",
    "    data.append(dicty)\n",
    "\n",
    "df = pd.DataFrame(data)\n",
    "ndf = df.set_index('Prep',drop=True)\n",
    "ndf"
   ]
  },
  {
   "cell_type": "markdown",
   "metadata": {},
   "source": [
    "**three design**\n",
    "\n",
    "of course it works here"
   ]
  },
  {
   "cell_type": "code",
   "execution_count": 16,
   "metadata": {},
   "outputs": [
    {
     "data": {
      "text/html": [
       "<div>\n",
       "<style scoped>\n",
       "    .dataframe tbody tr th:only-of-type {\n",
       "        vertical-align: middle;\n",
       "    }\n",
       "\n",
       "    .dataframe tbody tr th {\n",
       "        vertical-align: top;\n",
       "    }\n",
       "\n",
       "    .dataframe thead th {\n",
       "        text-align: right;\n",
       "    }\n",
       "</style>\n",
       "<table border=\"1\" class=\"dataframe\">\n",
       "  <thead>\n",
       "    <tr style=\"text-align: right;\">\n",
       "      <th></th>\n",
       "      <th>Meas 00</th>\n",
       "      <th>Meas 01</th>\n",
       "      <th>Meas 10</th>\n",
       "      <th>Meas 11</th>\n",
       "    </tr>\n",
       "    <tr>\n",
       "      <th>Prep</th>\n",
       "      <th></th>\n",
       "      <th></th>\n",
       "      <th></th>\n",
       "      <th></th>\n",
       "    </tr>\n",
       "  </thead>\n",
       "  <tbody>\n",
       "    <tr>\n",
       "      <th>00</th>\n",
       "      <td>0.923000</td>\n",
       "      <td>0.026000</td>\n",
       "      <td>0.026667</td>\n",
       "      <td>0.024333</td>\n",
       "    </tr>\n",
       "    <tr>\n",
       "      <th>01</th>\n",
       "      <td>0.022500</td>\n",
       "      <td>0.928000</td>\n",
       "      <td>0.025000</td>\n",
       "      <td>0.024500</td>\n",
       "    </tr>\n",
       "    <tr>\n",
       "      <th>10</th>\n",
       "      <td>0.026333</td>\n",
       "      <td>0.026333</td>\n",
       "      <td>0.922333</td>\n",
       "      <td>0.025000</td>\n",
       "    </tr>\n",
       "    <tr>\n",
       "      <th>11</th>\n",
       "      <td>0.028833</td>\n",
       "      <td>0.026000</td>\n",
       "      <td>0.023000</td>\n",
       "      <td>0.922167</td>\n",
       "    </tr>\n",
       "  </tbody>\n",
       "</table>\n",
       "</div>"
      ],
      "text/plain": [
       "       Meas 00   Meas 01   Meas 10   Meas 11\n",
       "Prep                                        \n",
       "00    0.923000  0.026000  0.026667  0.024333\n",
       "01    0.022500  0.928000  0.025000  0.024500\n",
       "10    0.026333  0.026333  0.922333  0.025000\n",
       "11    0.028833  0.026000  0.023000  0.922167"
      ]
     },
     "execution_count": 16,
     "metadata": {},
     "output_type": "execute_result"
    }
   ],
   "source": [
    "data = []\n",
    "num_shots = 6000\n",
    "\n",
    "for prepname,program in zip(prepnames, prepprogs):\n",
    "    answer = qc.run_symmetrized_readout(program, trials=num_shots, symm_type=3)\n",
    "    counts=[]\n",
    "    for cdx in binarray:\n",
    "        counts.append(answer.tolist().count(cdx) / num_shots)\n",
    "\n",
    "    dicty = dict(zip(['Prep']+[ 'Meas ' + name for name in prepnames], [prepname] + counts)) \n",
    "    data.append(dicty)\n",
    "\n",
    "df = pd.DataFrame(data)\n",
    "ndf = df.set_index('Prep',drop=True)\n",
    "ndf"
   ]
  },
  {
   "cell_type": "markdown",
   "metadata": {},
   "source": [
    "**exhaustive symm**\n",
    "\n",
    "of course it works here"
   ]
  },
  {
   "cell_type": "code",
   "execution_count": 17,
   "metadata": {},
   "outputs": [
    {
     "data": {
      "text/html": [
       "<div>\n",
       "<style scoped>\n",
       "    .dataframe tbody tr th:only-of-type {\n",
       "        vertical-align: middle;\n",
       "    }\n",
       "\n",
       "    .dataframe tbody tr th {\n",
       "        vertical-align: top;\n",
       "    }\n",
       "\n",
       "    .dataframe thead th {\n",
       "        text-align: right;\n",
       "    }\n",
       "</style>\n",
       "<table border=\"1\" class=\"dataframe\">\n",
       "  <thead>\n",
       "    <tr style=\"text-align: right;\">\n",
       "      <th></th>\n",
       "      <th>Meas 00</th>\n",
       "      <th>Meas 01</th>\n",
       "      <th>Meas 10</th>\n",
       "      <th>Meas 11</th>\n",
       "    </tr>\n",
       "    <tr>\n",
       "      <th>Prep</th>\n",
       "      <th></th>\n",
       "      <th></th>\n",
       "      <th></th>\n",
       "      <th></th>\n",
       "    </tr>\n",
       "  </thead>\n",
       "  <tbody>\n",
       "    <tr>\n",
       "      <th>00</th>\n",
       "      <td>0.926500</td>\n",
       "      <td>0.023167</td>\n",
       "      <td>0.025667</td>\n",
       "      <td>0.024667</td>\n",
       "    </tr>\n",
       "    <tr>\n",
       "      <th>01</th>\n",
       "      <td>0.022833</td>\n",
       "      <td>0.928667</td>\n",
       "      <td>0.024333</td>\n",
       "      <td>0.024167</td>\n",
       "    </tr>\n",
       "    <tr>\n",
       "      <th>10</th>\n",
       "      <td>0.025500</td>\n",
       "      <td>0.026667</td>\n",
       "      <td>0.924667</td>\n",
       "      <td>0.023167</td>\n",
       "    </tr>\n",
       "    <tr>\n",
       "      <th>11</th>\n",
       "      <td>0.024000</td>\n",
       "      <td>0.023167</td>\n",
       "      <td>0.029500</td>\n",
       "      <td>0.923333</td>\n",
       "    </tr>\n",
       "  </tbody>\n",
       "</table>\n",
       "</div>"
      ],
      "text/plain": [
       "       Meas 00   Meas 01   Meas 10   Meas 11\n",
       "Prep                                        \n",
       "00    0.926500  0.023167  0.025667  0.024667\n",
       "01    0.022833  0.928667  0.024333  0.024167\n",
       "10    0.025500  0.026667  0.924667  0.023167\n",
       "11    0.024000  0.023167  0.029500  0.923333"
      ]
     },
     "execution_count": 17,
     "metadata": {},
     "output_type": "execute_result"
    }
   ],
   "source": [
    "data = []\n",
    "num_shots = 6000\n",
    "\n",
    "for prepname,program in zip(prepnames, prepprogs):\n",
    "    answer = qc.run_symmetrized_readout(program, trials=num_shots, symm_type=-1)\n",
    "    counts=[]\n",
    "    for cdx in binarray:\n",
    "        counts.append(answer.tolist().count(cdx) / num_shots)\n",
    "\n",
    "    dicty = dict(zip(['Prep']+[ 'Meas ' + name for name in prepnames], [prepname] + counts)) \n",
    "    data.append(dicty)\n",
    "\n",
    "df = pd.DataFrame(data)\n",
    "ndf = df.set_index('Prep',drop=True)\n",
    "ndf"
   ]
  },
  {
   "cell_type": "markdown",
   "metadata": {},
   "source": [
    "**other things to play with**"
   ]
  },
  {
   "cell_type": "code",
   "execution_count": 18,
   "metadata": {},
   "outputs": [],
   "source": [
    "from pyquil.api._quantum_computer import _symmetrization, _flip_array_to_prog"
   ]
  },
  {
   "cell_type": "code",
   "execution_count": 19,
   "metadata": {},
   "outputs": [
    {
     "name": "stdout",
     "output_type": "stream",
     "text": [
      "RX(pi) 0\n",
      "RX(pi) 2\n",
      "RX(pi) 4\n",
      "RX(pi) 5\n",
      "\n"
     ]
    }
   ],
   "source": [
    "progy = _flip_array_to_prog((1,0,1,0,1,1),[0,1,2,3,4,5])\n",
    "print(progy)"
   ]
  },
  {
   "cell_type": "code",
   "execution_count": 20,
   "metadata": {},
   "outputs": [],
   "source": [
    "prog, flip_array = _symmetrization(Program(I(0),I(1)), [0,1], 1)"
   ]
  },
  {
   "cell_type": "code",
   "execution_count": 21,
   "metadata": {},
   "outputs": [
    {
     "data": {
      "text/plain": [
       "[array([0, 0]), array([1, 1])]"
      ]
     },
     "execution_count": 21,
     "metadata": {},
     "output_type": "execute_result"
    }
   ],
   "source": [
    "flip_array"
   ]
  },
  {
   "cell_type": "code",
   "execution_count": 22,
   "metadata": {},
   "outputs": [
    {
     "name": "stdout",
     "output_type": "stream",
     "text": [
      "[<pyquil.quil.Program object at 0xa2823ff60>, <pyquil.quil.Program object at 0xa2823fe48>]\n",
      "DEFGATE II:\n",
      "    1.0, 0, 0, 0\n",
      "    0, 1.0, 0, 0\n",
      "    0, 0, 1.0, 0\n",
      "    0, 0, 0, 1.0\n",
      "\n",
      "I 0\n",
      "I 1\n",
      "PRAGMA ADD-KRAUS II 0 1 \"(0.8366600265340756 0.0 0.0 0.0 0.0 1.0 0.0 0.0 0.0 0.0 1.0 0.0 0.0 0.0 0.0 1.0)\"\n",
      "PRAGMA ADD-KRAUS II 0 1 \"(0.0 0.0 0.0 0.0 0.31622776601683794 0.0 0.0 0.0 0.31622776601683794 0.0 0.0 0.0 0.31622776601683794 0.0 0.0 0.0)\"\n",
      "PRAGMA ADD-KRAUS II 0 1 \"(0.0 0.0 0.0 0.0 0.0 0.0 0.0 0.0 0.0 0.0 0.0 0.0 0.0 0.0 0.0 0.0)\"\n",
      "PRAGMA ADD-KRAUS II 0 1 \"(0.0 0.0 0.0 0.0 0.0 0.0 0.0 0.0 0.0 0.0 0.0 0.0 0.0 0.0 0.0 0.0)\"\n",
      "PRAGMA ADD-KRAUS II 0 1 \"(0.0 0.0 0.0 0.0 0.0 0.0 0.0 0.0 0.0 0.0 0.0 0.0 0.0 0.0 0.0 0.0)\"\n",
      "II 0 1\n",
      "\n",
      "DEFGATE II:\n",
      "    1.0, 0, 0, 0\n",
      "    0, 1.0, 0, 0\n",
      "    0, 0, 1.0, 0\n",
      "    0, 0, 0, 1.0\n",
      "\n",
      "I 0\n",
      "I 1\n",
      "RX(pi) 0\n",
      "RX(pi) 1\n",
      "PRAGMA ADD-KRAUS II 0 1 \"(0.8366600265340756 0.0 0.0 0.0 0.0 1.0 0.0 0.0 0.0 0.0 1.0 0.0 0.0 0.0 0.0 1.0)\"\n",
      "PRAGMA ADD-KRAUS II 0 1 \"(0.0 0.0 0.0 0.0 0.31622776601683794 0.0 0.0 0.0 0.31622776601683794 0.0 0.0 0.0 0.31622776601683794 0.0 0.0 0.0)\"\n",
      "PRAGMA ADD-KRAUS II 0 1 \"(0.0 0.0 0.0 0.0 0.0 0.0 0.0 0.0 0.0 0.0 0.0 0.0 0.0 0.0 0.0 0.0)\"\n",
      "PRAGMA ADD-KRAUS II 0 1 \"(0.0 0.0 0.0 0.0 0.0 0.0 0.0 0.0 0.0 0.0 0.0 0.0 0.0 0.0 0.0 0.0)\"\n",
      "PRAGMA ADD-KRAUS II 0 1 \"(0.0 0.0 0.0 0.0 0.0 0.0 0.0 0.0 0.0 0.0 0.0 0.0 0.0 0.0 0.0 0.0)\"\n",
      "II 0 1\n",
      "\n"
     ]
    },
    {
     "data": {
      "text/plain": [
       "[None, None]"
      ]
     },
     "execution_count": 22,
     "metadata": {},
     "output_type": "execute_result"
    }
   ],
   "source": [
    "print(prog)\n",
    "[print(x) for x in prog]"
   ]
  },
  {
   "cell_type": "code",
   "execution_count": 23,
   "metadata": {},
   "outputs": [],
   "source": [
    "from pyquil.api._quantum_computer import (_construct_strength_three_orthogonal_array,\n",
    "                                          _construct_strength_two_orthogonal_array)"
   ]
  },
  {
   "cell_type": "code",
   "execution_count": 24,
   "metadata": {},
   "outputs": [
    {
     "data": {
      "text/plain": [
       "array([[0, 0, 0],\n",
       "       [1, 0, 1],\n",
       "       [0, 1, 1],\n",
       "       [1, 1, 0]])"
      ]
     },
     "execution_count": 24,
     "metadata": {},
     "output_type": "execute_result"
    }
   ],
   "source": [
    "_construct_strength_two_orthogonal_array(3)"
   ]
  },
  {
   "cell_type": "code",
   "execution_count": null,
   "metadata": {},
   "outputs": [],
   "source": []
  }
 ],
 "metadata": {
  "kernelspec": {
   "display_name": "Python 3",
   "language": "python",
   "name": "python3"
  },
  "language_info": {
   "codemirror_mode": {
    "name": "ipython",
    "version": 3
   },
   "file_extension": ".py",
   "mimetype": "text/x-python",
   "name": "python",
   "nbconvert_exporter": "python",
   "pygments_lexer": "ipython3",
   "version": "3.7.3"
  }
 },
 "nbformat": 4,
 "nbformat_minor": 2
}
