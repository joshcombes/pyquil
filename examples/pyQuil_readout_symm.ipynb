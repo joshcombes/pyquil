{
 "cells": [
  {
   "cell_type": "markdown",
   "metadata": {},
   "source": [
    "# Testing `run_symmetrized_readout_new`"
   ]
  },
  {
   "cell_type": "code",
   "execution_count": 10,
   "metadata": {},
   "outputs": [],
   "source": [
    "from math import pi\n",
    "from typing import List\n",
    "import itertools\n",
    "import numpy as np\n",
    "\n",
    "from pyquil import Program, get_qc\n",
    "from pyquil.api import QuantumComputer\n",
    "from pyquil.gates import *\n",
    "from forest.benchmarking.utils import bitstring_prep"
   ]
  },
  {
   "cell_type": "markdown",
   "metadata": {},
   "source": [
    "**get a quantum computers, because we need one***"
   ]
  },
  {
   "cell_type": "code",
   "execution_count": 2,
   "metadata": {},
   "outputs": [],
   "source": [
    "qc = get_qc(\"8q-qvm\")"
   ]
  },
  {
   "cell_type": "markdown",
   "metadata": {},
   "source": [
    "**define some two qubit asymmetric noise operators**"
   ]
  },
  {
   "cell_type": "code",
   "execution_count": 3,
   "metadata": {},
   "outputs": [],
   "source": [
    "def two_qubit_bit_flip_operators(p00,p01,p10,p11):\n",
    "    \"\"\"\n",
    "    Return a special case of a two qubit asymmetric bit flip kraus operators.\n",
    "    \n",
    "    Suppose we prepare a two qubit state |i,j> = |i>\\otimes|j> for i,j \\in {0,1}.\n",
    "    \n",
    "    Then pij := Pr(measured=ij|prepared=ij). So if pij = 1 no flip happens.\n",
    "    \n",
    "    For example consider p00 = 1-epsilon then a flip happens with probablity epsilon.\n",
    "    The flip is symmetrically superposed over flipping to the states |0,1>, |1,0>, and |1,1>.\n",
    "    The asymmetry comes from the fact that p00 does not have to be equal to p10 etc.\n",
    "    \n",
    "    :param p00: the probablity of |0,0> to remain in |0,0>\n",
    "    :param p01: the probablity of |0,1> to remain in |0,1>\n",
    "    :param p10: the probablity of |1,0> to remain in |1,0>\n",
    "    :param p11: the probablity of |1,1> to remain in |1,1>\n",
    "    :returns: a list of four Kraus operators.\n",
    "    \"\"\"\n",
    "    p00e = 1.0 - p00\n",
    "    p01e = 1.0 - p01\n",
    "    p10e = 1.0 - p10\n",
    "    p11e = 1.0 - p11\n",
    "    kI = np.array([[np.sqrt(1-p00e), 0.0, 0.0, 0.0], [0.0, np.sqrt(1-p01e), 0.0, 0.0], [0.0, 0.0, np.sqrt(1-p10e), 0.0], [0.0, 0.0, 0.0, np.sqrt(1-p11e)]])\n",
    "    k00 = np.sqrt(p00e/3) * ( _flip_matrix(0,1) + _flip_matrix(0,2) + _flip_matrix(0,3) )\n",
    "    k01 = np.sqrt(p01e/3) * ( _flip_matrix(1,0) + _flip_matrix(1,2) + _flip_matrix(1,3) )\n",
    "    k10 = np.sqrt(p10e/3) * ( _flip_matrix(2,0) + _flip_matrix(2,1) + _flip_matrix(2,3) )\n",
    "    k11 = np.sqrt(p11e/3) * ( _flip_matrix(3,0) + _flip_matrix(3,1) + _flip_matrix(3,2) )\n",
    "    return kI, k00, k01, k10, k11\n",
    "\n",
    "def _flip_matrix(i,j,dim=4):\n",
    "    mat = np.zeros((dim,dim))\n",
    "    #mat.itemset((i,j),1)\n",
    "    mat.itemset((j,i),1)\n",
    "    return mat\n",
    "\n",
    "def append_kraus_to_gate(kraus_ops, g):\n",
    "    \"\"\"\n",
    "    Follow a gate `g` by a Kraus map described by `kraus_ops`.\n",
    "\n",
    "    :param list kraus_ops: The Kraus operators.\n",
    "    :param numpy.ndarray g: The unitary gate.\n",
    "    :return: A list of transformed Kraus operators.\n",
    "    \"\"\"\n",
    "    return [kj.dot(g) for kj in kraus_ops]"
   ]
  },
  {
   "cell_type": "code",
   "execution_count": 4,
   "metadata": {},
   "outputs": [],
   "source": [
    "nbits = 2\n",
    "prepnames = []\n",
    "prepprogs = []\n",
    "binarray = []\n",
    "for flip_array in itertools.product([0, 1], repeat=nbits):\n",
    "    prepprogs.append(bitstring_prep(list(range(0,nbits)),flip_array))\n",
    "    prepnames.append(''.join(str(x) for x in flip_array))\n",
    "    binarray.append(list(flip_array))"
   ]
  },
  {
   "cell_type": "code",
   "execution_count": 5,
   "metadata": {},
   "outputs": [],
   "source": [
    "from pyquil.quil import DefGate\n",
    "\n",
    "II_mat = np.eye(4)\n",
    "II_definition = DefGate(\"II\", II_mat)\n",
    "II = II_definition.get_constructor()\n",
    "kraus_ops = two_qubit_bit_flip_operators(0.1,1,1,1)\n",
    "\n",
    "p = Program(II_definition)\n",
    "\n",
    "p.define_noisy_gate(\"II\", [0, 1],  append_kraus_to_gate(kraus_ops, II_mat))\n",
    "p += Program(II(0,1))\n"
   ]
  },
  {
   "cell_type": "code",
   "execution_count": 6,
   "metadata": {},
   "outputs": [
    {
     "data": {
      "text/plain": [
       "<pyquil.quil.Program at 0xa18db4940>"
      ]
     },
     "execution_count": 6,
     "metadata": {},
     "output_type": "execute_result"
    }
   ],
   "source": [
    "progRAM = p.copy()\n",
    "\n",
    "prog = p.copy()\n",
    "ro = prog.declare('ro', 'BIT', 2)\n",
    "prog += MEASURE(0, ro[0])\n",
    "prog += MEASURE(1, ro[1])\n",
    "prog.wrap_in_numshots_loop(10)"
   ]
  },
  {
   "cell_type": "markdown",
   "metadata": {},
   "source": [
    "# `run_and_measure` ... everything gets complied away :("
   ]
  },
  {
   "cell_type": "code",
   "execution_count": 7,
   "metadata": {},
   "outputs": [
    {
     "data": {
      "text/plain": [
       "{0: array([0, 0, 0, 0, 0, 0, 0, 0, 0, 0]),\n",
       " 1: array([0, 0, 0, 0, 0, 0, 0, 0, 0, 0]),\n",
       " 2: array([0, 0, 0, 0, 0, 0, 0, 0, 0, 0]),\n",
       " 3: array([0, 0, 0, 0, 0, 0, 0, 0, 0, 0]),\n",
       " 4: array([0, 0, 0, 0, 0, 0, 0, 0, 0, 0]),\n",
       " 5: array([0, 0, 0, 0, 0, 0, 0, 0, 0, 0]),\n",
       " 6: array([0, 0, 0, 0, 0, 0, 0, 0, 0, 0]),\n",
       " 7: array([0, 0, 0, 0, 0, 0, 0, 0, 0, 0])}"
      ]
     },
     "execution_count": 7,
     "metadata": {},
     "output_type": "execute_result"
    }
   ],
   "source": [
    "qc.run_and_measure(progRAM,trials=10)"
   ]
  },
  {
   "cell_type": "markdown",
   "metadata": {},
   "source": [
    "# `run` the noise models works :)"
   ]
  },
  {
   "cell_type": "code",
   "execution_count": 8,
   "metadata": {},
   "outputs": [
    {
     "data": {
      "text/plain": [
       "array([[0, 1],\n",
       "       [0, 0],\n",
       "       [0, 0],\n",
       "       [1, 1],\n",
       "       [1, 0],\n",
       "       [0, 1],\n",
       "       [0, 1],\n",
       "       [1, 0],\n",
       "       [0, 1],\n",
       "       [0, 1]])"
      ]
     },
     "execution_count": 8,
     "metadata": {},
     "output_type": "execute_result"
    }
   ],
   "source": [
    "qc.run(prog)"
   ]
  },
  {
   "cell_type": "markdown",
   "metadata": {},
   "source": [
    "# `run_symmetrized_readout_new` also works if you turn the compiler off"
   ]
  },
  {
   "cell_type": "code",
   "execution_count": 9,
   "metadata": {},
   "outputs": [
    {
     "name": "stderr",
     "output_type": "stream",
     "text": [
      "/Users/joshua/pyquil/pyquil/quil.py:183: UserWarning: Gate II has already been defined in this program\n",
      "  .format(instruction.name))\n"
     ]
    },
    {
     "data": {
      "text/plain": [
       "array([[0, 1],\n",
       "       [0, 1],\n",
       "       [0, 1],\n",
       "       [1, 1],\n",
       "       [1, 0],\n",
       "       [0, 1],\n",
       "       [1, 1],\n",
       "       [1, 0]])"
      ]
     },
     "execution_count": 9,
     "metadata": {},
     "output_type": "execute_result"
    }
   ],
   "source": [
    "qc.run_symmetrized_readout_new(progRAM,trials=10,use_compiler=False)"
   ]
  },
  {
   "cell_type": "markdown",
   "metadata": {},
   "source": [
    "# check the confusion matrix"
   ]
  },
  {
   "cell_type": "code",
   "execution_count": 4,
   "metadata": {},
   "outputs": [],
   "source": [
    "import pandas as pd"
   ]
  },
  {
   "cell_type": "code",
   "execution_count": 5,
   "metadata": {},
   "outputs": [],
   "source": [
    "nbits = 2\n",
    "prepnames = []\n",
    "prepprogs = []\n",
    "binarray = []\n",
    "for flip_array in itertools.product([0, 1], repeat=nbits):\n",
    "    prepprogs.append(bitstring_prep(list(range(0,nbits)),flip_array))\n",
    "    prepnames.append(''.join(str(x) for x in flip_array))\n",
    "    binarray.append(list(flip_array))"
   ]
  },
  {
   "cell_type": "code",
   "execution_count": 6,
   "metadata": {},
   "outputs": [],
   "source": [
    "# kraus_ops = two_qubit_bit_flip_operators(1,0.7,1,1)\n",
    "\n",
    "# # add noise\n",
    "# for prog in prepprogs:\n",
    "#     prog.inst(II_definition)\n",
    "#     prog.define_noisy_gate(\"II\", [0, 1],  append_kraus_to_gate(kraus_ops, II_mat))\n",
    "#     prog.inst(II(0,1))\n",
    "\n",
    "\n"
   ]
  },
  {
   "cell_type": "markdown",
   "metadata": {},
   "source": [
    "Note there is a really big hack here... I had to hard code the noise in.\n",
    "\n",
    "the problem is that if you add the symmetrization using this method it happens after the noise which wont do anything"
   ]
  },
  {
   "cell_type": "markdown",
   "metadata": {},
   "source": [
    "**trival / no symm**"
   ]
  },
  {
   "cell_type": "code",
   "execution_count": 7,
   "metadata": {},
   "outputs": [
    {
     "data": {
      "text/html": [
       "<div>\n",
       "<style scoped>\n",
       "    .dataframe tbody tr th:only-of-type {\n",
       "        vertical-align: middle;\n",
       "    }\n",
       "\n",
       "    .dataframe tbody tr th {\n",
       "        vertical-align: top;\n",
       "    }\n",
       "\n",
       "    .dataframe thead th {\n",
       "        text-align: right;\n",
       "    }\n",
       "</style>\n",
       "<table border=\"1\" class=\"dataframe\">\n",
       "  <thead>\n",
       "    <tr style=\"text-align: right;\">\n",
       "      <th></th>\n",
       "      <th>Meas 00</th>\n",
       "      <th>Meas 01</th>\n",
       "      <th>Meas 10</th>\n",
       "      <th>Meas 11</th>\n",
       "    </tr>\n",
       "    <tr>\n",
       "      <th>Prep</th>\n",
       "      <th></th>\n",
       "      <th></th>\n",
       "      <th></th>\n",
       "      <th></th>\n",
       "    </tr>\n",
       "  </thead>\n",
       "  <tbody>\n",
       "    <tr>\n",
       "      <th>00</th>\n",
       "      <td>0.706167</td>\n",
       "      <td>0.092833</td>\n",
       "      <td>0.096667</td>\n",
       "      <td>0.104333</td>\n",
       "    </tr>\n",
       "    <tr>\n",
       "      <th>01</th>\n",
       "      <td>0.000000</td>\n",
       "      <td>1.000000</td>\n",
       "      <td>0.000000</td>\n",
       "      <td>0.000000</td>\n",
       "    </tr>\n",
       "    <tr>\n",
       "      <th>10</th>\n",
       "      <td>0.000000</td>\n",
       "      <td>0.000000</td>\n",
       "      <td>1.000000</td>\n",
       "      <td>0.000000</td>\n",
       "    </tr>\n",
       "    <tr>\n",
       "      <th>11</th>\n",
       "      <td>0.000000</td>\n",
       "      <td>0.000000</td>\n",
       "      <td>0.000000</td>\n",
       "      <td>1.000000</td>\n",
       "    </tr>\n",
       "  </tbody>\n",
       "</table>\n",
       "</div>"
      ],
      "text/plain": [
       "       Meas 00   Meas 01   Meas 10   Meas 11\n",
       "Prep                                        \n",
       "00    0.706167  0.092833  0.096667  0.104333\n",
       "01    0.000000  1.000000  0.000000  0.000000\n",
       "10    0.000000  0.000000  1.000000  0.000000\n",
       "11    0.000000  0.000000  0.000000  1.000000"
      ]
     },
     "execution_count": 7,
     "metadata": {},
     "output_type": "execute_result"
    }
   ],
   "source": [
    "data = []\n",
    "num_shots = 6000\n",
    "\n",
    "for prepname,program in zip(prepnames,prepprogs):\n",
    "    answer = qc.run_symmetrized_readout_new(program, trials=num_shots,use_compiler=False,symm_type='tri')\n",
    "    counts=[]\n",
    "    for cdx in binarray:\n",
    "        counts.append(answer.tolist().count(cdx)/num_shots)\n",
    "\n",
    "    dicty = dict(zip(['Prep']+[ 'Meas '+name for name in prepnames], [prepname]+counts)) \n",
    "    data.append(dicty)\n",
    "\n",
    "df = pd.DataFrame(data)\n",
    "ndf = df.set_index('Prep',drop=True)\n",
    "ndf"
   ]
  },
  {
   "cell_type": "markdown",
   "metadata": {},
   "source": [
    "**One design**\n",
    "\n",
    "In this case does not help much"
   ]
  },
  {
   "cell_type": "code",
   "execution_count": 8,
   "metadata": {},
   "outputs": [
    {
     "data": {
      "text/html": [
       "<div>\n",
       "<style scoped>\n",
       "    .dataframe tbody tr th:only-of-type {\n",
       "        vertical-align: middle;\n",
       "    }\n",
       "\n",
       "    .dataframe tbody tr th {\n",
       "        vertical-align: top;\n",
       "    }\n",
       "\n",
       "    .dataframe thead th {\n",
       "        text-align: right;\n",
       "    }\n",
       "</style>\n",
       "<table border=\"1\" class=\"dataframe\">\n",
       "  <thead>\n",
       "    <tr style=\"text-align: right;\">\n",
       "      <th></th>\n",
       "      <th>Meas 00</th>\n",
       "      <th>Meas 01</th>\n",
       "      <th>Meas 10</th>\n",
       "      <th>Meas 11</th>\n",
       "    </tr>\n",
       "    <tr>\n",
       "      <th>Prep</th>\n",
       "      <th></th>\n",
       "      <th></th>\n",
       "      <th></th>\n",
       "      <th></th>\n",
       "    </tr>\n",
       "  </thead>\n",
       "  <tbody>\n",
       "    <tr>\n",
       "      <th>00</th>\n",
       "      <td>0.851333</td>\n",
       "      <td>0.051333</td>\n",
       "      <td>0.051333</td>\n",
       "      <td>0.046000</td>\n",
       "    </tr>\n",
       "    <tr>\n",
       "      <th>01</th>\n",
       "      <td>0.000000</td>\n",
       "      <td>1.000000</td>\n",
       "      <td>0.000000</td>\n",
       "      <td>0.000000</td>\n",
       "    </tr>\n",
       "    <tr>\n",
       "      <th>10</th>\n",
       "      <td>0.000000</td>\n",
       "      <td>0.000000</td>\n",
       "      <td>1.000000</td>\n",
       "      <td>0.000000</td>\n",
       "    </tr>\n",
       "    <tr>\n",
       "      <th>11</th>\n",
       "      <td>0.049667</td>\n",
       "      <td>0.050667</td>\n",
       "      <td>0.048500</td>\n",
       "      <td>0.851167</td>\n",
       "    </tr>\n",
       "  </tbody>\n",
       "</table>\n",
       "</div>"
      ],
      "text/plain": [
       "       Meas 00   Meas 01   Meas 10   Meas 11\n",
       "Prep                                        \n",
       "00    0.851333  0.051333  0.051333  0.046000\n",
       "01    0.000000  1.000000  0.000000  0.000000\n",
       "10    0.000000  0.000000  1.000000  0.000000\n",
       "11    0.049667  0.050667  0.048500  0.851167"
      ]
     },
     "execution_count": 8,
     "metadata": {},
     "output_type": "execute_result"
    }
   ],
   "source": [
    "data = []\n",
    "num_shots = 6000\n",
    "\n",
    "for prepname,program in zip(prepnames,prepprogs):\n",
    "    answer = qc.run_symmetrized_readout_new(program, trials=num_shots,use_compiler=False,symm_type='one')\n",
    "    counts=[]\n",
    "    for cdx in binarray:\n",
    "        counts.append(answer.tolist().count(cdx)/num_shots)\n",
    "\n",
    "    dicty = dict(zip(['Prep']+[ 'Meas '+name for name in prepnames], [prepname]+counts)) \n",
    "    data.append(dicty)\n",
    "\n",
    "df = pd.DataFrame(data)\n",
    "ndf = df.set_index('Prep',drop=True)\n",
    "ndf"
   ]
  },
  {
   "cell_type": "markdown",
   "metadata": {},
   "source": [
    "**two design**\n",
    "\n",
    ":) it is working!!"
   ]
  },
  {
   "cell_type": "code",
   "execution_count": 11,
   "metadata": {},
   "outputs": [
    {
     "data": {
      "text/html": [
       "<div>\n",
       "<style scoped>\n",
       "    .dataframe tbody tr th:only-of-type {\n",
       "        vertical-align: middle;\n",
       "    }\n",
       "\n",
       "    .dataframe tbody tr th {\n",
       "        vertical-align: top;\n",
       "    }\n",
       "\n",
       "    .dataframe thead th {\n",
       "        text-align: right;\n",
       "    }\n",
       "</style>\n",
       "<table border=\"1\" class=\"dataframe\">\n",
       "  <thead>\n",
       "    <tr style=\"text-align: right;\">\n",
       "      <th></th>\n",
       "      <th>Meas 00</th>\n",
       "      <th>Meas 01</th>\n",
       "      <th>Meas 10</th>\n",
       "      <th>Meas 11</th>\n",
       "    </tr>\n",
       "    <tr>\n",
       "      <th>Prep</th>\n",
       "      <th></th>\n",
       "      <th></th>\n",
       "      <th></th>\n",
       "      <th></th>\n",
       "    </tr>\n",
       "  </thead>\n",
       "  <tbody>\n",
       "    <tr>\n",
       "      <th>00</th>\n",
       "      <td>0.925333</td>\n",
       "      <td>0.024500</td>\n",
       "      <td>0.025833</td>\n",
       "      <td>0.024333</td>\n",
       "    </tr>\n",
       "    <tr>\n",
       "      <th>01</th>\n",
       "      <td>0.023000</td>\n",
       "      <td>0.927500</td>\n",
       "      <td>0.025167</td>\n",
       "      <td>0.024333</td>\n",
       "    </tr>\n",
       "    <tr>\n",
       "      <th>10</th>\n",
       "      <td>0.027333</td>\n",
       "      <td>0.025167</td>\n",
       "      <td>0.919167</td>\n",
       "      <td>0.028333</td>\n",
       "    </tr>\n",
       "    <tr>\n",
       "      <th>11</th>\n",
       "      <td>0.022167</td>\n",
       "      <td>0.025000</td>\n",
       "      <td>0.024667</td>\n",
       "      <td>0.928167</td>\n",
       "    </tr>\n",
       "  </tbody>\n",
       "</table>\n",
       "</div>"
      ],
      "text/plain": [
       "       Meas 00   Meas 01   Meas 10   Meas 11\n",
       "Prep                                        \n",
       "00    0.925333  0.024500  0.025833  0.024333\n",
       "01    0.023000  0.927500  0.025167  0.024333\n",
       "10    0.027333  0.025167  0.919167  0.028333\n",
       "11    0.022167  0.025000  0.024667  0.928167"
      ]
     },
     "execution_count": 11,
     "metadata": {},
     "output_type": "execute_result"
    }
   ],
   "source": [
    "data = []\n",
    "num_shots = 6000\n",
    "\n",
    "for prepname,program in zip(prepnames,prepprogs):\n",
    "    answer = qc.run_symmetrized_readout_new(program, trials=num_shots,use_compiler=False,symm_type='two')\n",
    "    counts=[]\n",
    "    for cdx in binarray:\n",
    "        counts.append(answer.tolist().count(cdx)/num_shots)\n",
    "\n",
    "    dicty = dict(zip(['Prep']+[ 'Meas '+name for name in prepnames], [prepname]+counts)) \n",
    "    data.append(dicty)\n",
    "\n",
    "df = pd.DataFrame(data)\n",
    "ndf = df.set_index('Prep',drop=True)\n",
    "ndf"
   ]
  },
  {
   "cell_type": "code",
   "execution_count": null,
   "metadata": {},
   "outputs": [],
   "source": []
  }
 ],
 "metadata": {
  "kernelspec": {
   "display_name": "Python 3",
   "language": "python",
   "name": "python3"
  },
  "language_info": {
   "codemirror_mode": {
    "name": "ipython",
    "version": 3
   },
   "file_extension": ".py",
   "mimetype": "text/x-python",
   "name": "python",
   "nbconvert_exporter": "python",
   "pygments_lexer": "ipython3",
   "version": "3.7.3"
  }
 },
 "nbformat": 4,
 "nbformat_minor": 2
}
